{
 "cells": [
  {
   "attachments": {},
   "cell_type": "markdown",
   "metadata": {},
   "source": [
    "## Loading the inline SQL display"
   ]
  },
  {
   "cell_type": "code",
   "execution_count": 34,
   "metadata": {},
   "outputs": [
    {
     "name": "stdout",
     "output_type": "stream",
     "text": [
      "The sql extension is already loaded. To reload it, use:\n",
      "  %reload_ext sql\n"
     ]
    }
   ],
   "source": [
    "%load_ext sql\n",
    "%sql sqlite://"
   ]
  },
  {
   "attachments": {},
   "cell_type": "markdown",
   "metadata": {},
   "source": [
    "## Creating four tables below\n",
    "- employee\n",
    "- departments\n",
    "- job titles\n",
    "- salaries"
   ]
  },
  {
   "cell_type": "code",
   "execution_count": 35,
   "metadata": {},
   "outputs": [
    {
     "name": "stdout",
     "output_type": "stream",
     "text": [
      "*  sqlite://\n",
      "(sqlite3.OperationalError) table employees already exists\n",
      "[SQL: CREATE TABLE employees (\n",
      "  employee_id INT PRIMARY KEY,\n",
      "  first_name VARCHAR(50),\n",
      "  last_name VARCHAR(50),\n",
      "  date_of_birth DATE,\n",
      "  address VARCHAR(100),\n",
      "  email_address VARCHAR(100),\n",
      "  phone_number VARCHAR(20),\n",
      "  department_id INT,\n",
      "  job_title_id INT,\n",
      "  FOREIGN KEY (department_id) REFERENCES departments(department_id),\n",
      "  FOREIGN KEY (job_title_id) REFERENCES job_titles(job_title_id));]\n",
      "(Background on this error at: https://sqlalche.me/e/14/e3q8)\n"
     ]
    }
   ],
   "source": [
    "%%sql\n",
    "CREATE TABLE employees (\n",
    "  employee_id INT PRIMARY KEY,\n",
    "  first_name VARCHAR(50),\n",
    "  last_name VARCHAR(50),\n",
    "  date_of_birth DATE,\n",
    "  address VARCHAR(100),\n",
    "  email_address VARCHAR(100),\n",
    "  phone_number VARCHAR(20),\n",
    "  department_id INT,\n",
    "  job_title_id INT,\n",
    "  FOREIGN KEY (department_id) REFERENCES departments(department_id),\n",
    "  FOREIGN KEY (job_title_id) REFERENCES job_titles(job_title_id));"
   ]
  },
  {
   "cell_type": "code",
   "execution_count": 36,
   "metadata": {},
   "outputs": [
    {
     "name": "stdout",
     "output_type": "stream",
     "text": [
      "*  sqlite://\n",
      "(sqlite3.OperationalError) table departments already exists\n",
      "[SQL: CREATE TABLE departments (\n",
      "  department_id INT PRIMARY KEY,\n",
      "  department_name VARCHAR(50));]\n",
      "(Background on this error at: https://sqlalche.me/e/14/e3q8)\n"
     ]
    }
   ],
   "source": [
    "%%sql\n",
    "CREATE TABLE departments (\n",
    "  department_id INT PRIMARY KEY,\n",
    "  department_name VARCHAR(50));"
   ]
  },
  {
   "cell_type": "code",
   "execution_count": 37,
   "metadata": {},
   "outputs": [
    {
     "name": "stdout",
     "output_type": "stream",
     "text": [
      "*  sqlite://\n",
      "(sqlite3.OperationalError) table job_titles already exists\n",
      "[SQL: CREATE TABLE job_titles (\n",
      "  job_title_id INT PRIMARY KEY,\n",
      "  job_title VARCHAR(50));]\n",
      "(Background on this error at: https://sqlalche.me/e/14/e3q8)\n"
     ]
    }
   ],
   "source": [
    "%%sql\n",
    "CREATE TABLE job_titles (\n",
    "  job_title_id INT PRIMARY KEY,\n",
    "  job_title VARCHAR(50));"
   ]
  },
  {
   "cell_type": "code",
   "execution_count": 38,
   "metadata": {},
   "outputs": [
    {
     "name": "stdout",
     "output_type": "stream",
     "text": [
      "*  sqlite://\n",
      "(sqlite3.OperationalError) table salaries already exists\n",
      "[SQL: CREATE TABLE salaries (\n",
      "  salary_id INT PRIMARY KEY,\n",
      "  employee_id INT,\n",
      "  salary DECIMAL(10, 2),\n",
      "  start_date DATE,\n",
      "  end_date DATE,\n",
      "  FOREIGN KEY (employee_id) REFERENCES employees (employee_id));]\n",
      "(Background on this error at: https://sqlalche.me/e/14/e3q8)\n"
     ]
    }
   ],
   "source": [
    "%%sql\n",
    "CREATE TABLE salaries (\n",
    "  salary_id INT PRIMARY KEY,\n",
    "  employee_id INT,\n",
    "  salary DECIMAL(10, 2),\n",
    "  start_date DATE,\n",
    "  end_date DATE,\n",
    "  FOREIGN KEY (employee_id) REFERENCES employees (employee_id));"
   ]
  },
  {
   "attachments": {},
   "cell_type": "markdown",
   "metadata": {},
   "source": [
    "## Adding some sample data"
   ]
  },
  {
   "cell_type": "code",
   "execution_count": 39,
   "metadata": {},
   "outputs": [
    {
     "name": "stdout",
     "output_type": "stream",
     "text": [
      "*  sqlite://\n",
      "(sqlite3.IntegrityError) UNIQUE constraint failed: employees.employee_id\n",
      "[SQL: INSERT INTO employees (employee_id, first_name, last_name, date_of_birth, address, email_address, phone_number, department_id, job_title_id)\n",
      "VALUES\n",
      "  (1, 'Emily', 'Garcia', '1990-05-01', '123 Broadway, New York, NY 10001', 'emily.garcia@example.com', '555-1234', 1, 1),\n",
      "  (2, 'Daniel', 'Nguyen', '1988-12-15', '456 Lexington Ave, New York, NY 10017', 'daniel.nguyen@example.com', '555-5678', 1, 2),\n",
      "  (3, 'Brianna', 'Patel', '1985-03-25', '789 Madison Ave, New York, NY 10021', 'brianna.patel@example.com', '555-9012', 2, 3),\n",
      "  (4, 'Aiden', 'Smith', '1993-07-07', '321 5th Ave, New York, NY 10016', 'aiden.smith@example.com', '555-3456', 2, 4),\n",
      "  (5, 'Olivia', 'Brown', '1980-11-18', '654 8th Ave, New York, NY 10036', 'olivia.brown@example.com', '555-7890', 3, 5),\n",
      "  (6, 'Ethan', 'Carter', '1995-06-30', '987 Park Ave, New York, NY 10028', 'ethan.carter@example.com', '555-2345', 4, 6),\n",
      "  (7, 'Sophia', 'Clark', '1982-09-22', '654 2nd Ave, New York, NY 10016', 'sophia.clark@example.com', '555-6789', 5, 7),\n",
      "  (8, 'Lucas', 'Lopez', '1987-04-12', '321 1st Ave, New York, NY 10003', 'lucas.lopez@example.com', '555-0123', 5, 8);]\n",
      "(Background on this error at: https://sqlalche.me/e/14/gkpj)\n"
     ]
    }
   ],
   "source": [
    "%%sql\n",
    "INSERT INTO employees (employee_id, first_name, last_name, date_of_birth, address, email_address, phone_number, department_id, job_title_id)\n",
    "VALUES\n",
    "  (1, 'Emily', 'Garcia', '1990-05-01', '123 Broadway, New York, NY 10001', 'emily.garcia@example.com', '555-1234', 1, 1),\n",
    "  (2, 'Daniel', 'Nguyen', '1988-12-15', '456 Lexington Ave, New York, NY 10017', 'daniel.nguyen@example.com', '555-5678', 1, 2),\n",
    "  (3, 'Brianna', 'Patel', '1985-03-25', '789 Madison Ave, New York, NY 10021', 'brianna.patel@example.com', '555-9012', 2, 3),\n",
    "  (4, 'Aiden', 'Smith', '1993-07-07', '321 5th Ave, New York, NY 10016', 'aiden.smith@example.com', '555-3456', 2, 4),\n",
    "  (5, 'Olivia', 'Brown', '1980-11-18', '654 8th Ave, New York, NY 10036', 'olivia.brown@example.com', '555-7890', 3, 5),\n",
    "  (6, 'Ethan', 'Carter', '1995-06-30', '987 Park Ave, New York, NY 10028', 'ethan.carter@example.com', '555-2345', 4, 6),\n",
    "  (7, 'Sophia', 'Clark', '1982-09-22', '654 2nd Ave, New York, NY 10016', 'sophia.clark@example.com', '555-6789', 5, 7),\n",
    "  (8, 'Lucas', 'Lopez', '1987-04-12', '321 1st Ave, New York, NY 10003', 'lucas.lopez@example.com', '555-0123', 5, 8);\n"
   ]
  },
  {
   "cell_type": "code",
   "execution_count": 40,
   "metadata": {},
   "outputs": [
    {
     "name": "stdout",
     "output_type": "stream",
     "text": [
      "*  sqlite://\n",
      "(sqlite3.IntegrityError) UNIQUE constraint failed: departments.department_id\n",
      "[SQL: INSERT INTO departments (department_id, department_name)\n",
      "VALUES\n",
      "  (1, 'Sales'),\n",
      "  (2, 'Marketing'),\n",
      "  (3, 'Finance'),\n",
      "  (4, 'Human Resources'),\n",
      "  (5, 'Information Technology');]\n",
      "(Background on this error at: https://sqlalche.me/e/14/gkpj)\n"
     ]
    }
   ],
   "source": [
    "%%sql\n",
    "INSERT INTO departments (department_id, department_name)\n",
    "VALUES\n",
    "  (1, 'Sales'),\n",
    "  (2, 'Marketing'),\n",
    "  (3, 'Finance'),\n",
    "  (4, 'Human Resources'),\n",
    "  (5, 'Information Technology');"
   ]
  },
  {
   "cell_type": "code",
   "execution_count": 41,
   "metadata": {},
   "outputs": [
    {
     "name": "stdout",
     "output_type": "stream",
     "text": [
      "*  sqlite://\n",
      "(sqlite3.IntegrityError) UNIQUE constraint failed: job_titles.job_title_id\n",
      "[SQL: INSERT INTO job_titles (job_title_id, job_title)\n",
      "VALUES\n",
      "  (1, 'Sales Representative'),\n",
      "  (2, 'Sales Manager'),\n",
      "  (3, 'Marketing Coordinator'),\n",
      "  (4, 'Marketing Manager'),\n",
      "  (5, 'Financial Analyst'),\n",
      "  (6, 'Human Resources Generalist'),\n",
      "  (7, 'IT Specialist'),\n",
      "  (8, 'IT Manager');]\n",
      "(Background on this error at: https://sqlalche.me/e/14/gkpj)\n"
     ]
    }
   ],
   "source": [
    "%%sql\n",
    "INSERT INTO job_titles (job_title_id, job_title)\n",
    "VALUES\n",
    "  (1, 'Sales Representative'),\n",
    "  (2, 'Sales Manager'),\n",
    "  (3, 'Marketing Coordinator'),\n",
    "  (4, 'Marketing Manager'),\n",
    "  (5, 'Financial Analyst'),\n",
    "  (6, 'Human Resources Generalist'),\n",
    "  (7, 'IT Specialist'),\n",
    "  (8, 'IT Manager');"
   ]
  },
  {
   "cell_type": "code",
   "execution_count": 42,
   "metadata": {},
   "outputs": [
    {
     "name": "stdout",
     "output_type": "stream",
     "text": [
      "*  sqlite://\n",
      "(sqlite3.IntegrityError) UNIQUE constraint failed: salaries.salary_id\n",
      "[SQL: INSERT INTO salaries (salary_id, employee_id, salary, start_date, end_date)\n",
      "VALUES\n",
      "  (1, 1, 80000.00, '2012-01-01', '2022-12-31'),\n",
      "  (2, 2, 90000.00, '2017-04-01', '2022-12-31'),\n",
      "  (3, 3, 100000.00, '2015-07-01', '2022-12-31'),\n",
      "  (4, 4, 110000.00, '2009-02-01', '2022-12-31'),\n",
      "  (5, 5, 120000.00, '2007-09-01', '2022-12-31'),\n",
      "  (6, 6, 100000.00, '2020-11-01', '2022-12-31'),\n",
      "  (7, 7, 110000.00, '2023-03-01', '2022-12-31'),\n",
      "  (8, 8, 120000.00, '2011-04-01', '2022-12-31');]\n",
      "(Background on this error at: https://sqlalche.me/e/14/gkpj)\n"
     ]
    }
   ],
   "source": [
    "%%sql\n",
    "INSERT INTO salaries (salary_id, employee_id, salary, start_date, end_date)\n",
    "VALUES\n",
    "  (1, 1, 80000.00, '2012-01-01', '2022-12-31'),\n",
    "  (2, 2, 90000.00, '2017-04-01', '2022-12-31'),\n",
    "  (3, 3, 100000.00, '2015-07-01', '2022-12-31'),\n",
    "  (4, 4, 110000.00, '2009-02-01', '2022-12-31'),\n",
    "  (5, 5, 120000.00, '2007-09-01', '2022-12-31'),\n",
    "  (6, 6, 100000.00, '2020-11-01', '2022-12-31'),\n",
    "  (7, 7, 110000.00, '2023-03-01', '2022-12-31'),\n",
    "  (8, 8, 120000.00, '2011-04-01', '2022-12-31');"
   ]
  },
  {
   "attachments": {},
   "cell_type": "markdown",
   "metadata": {},
   "source": [
    "## Querying data"
   ]
  },
  {
   "cell_type": "code",
   "execution_count": 43,
   "metadata": {},
   "outputs": [
    {
     "name": "stdout",
     "output_type": "stream",
     "text": [
      "*  sqlite://\n",
      "Done.\n"
     ]
    },
    {
     "data": {
      "text/html": [
       "<table>\n",
       "    <thead>\n",
       "        <tr>\n",
       "            <th>employee_id</th>\n",
       "            <th>first_name</th>\n",
       "            <th>last_name</th>\n",
       "            <th>date_of_birth</th>\n",
       "            <th>address</th>\n",
       "            <th>email_address</th>\n",
       "            <th>phone_number</th>\n",
       "            <th>department_id</th>\n",
       "            <th>job_title_id</th>\n",
       "        </tr>\n",
       "    </thead>\n",
       "    <tbody>\n",
       "        <tr>\n",
       "            <td>1</td>\n",
       "            <td>Emily</td>\n",
       "            <td>Garcia</td>\n",
       "            <td>1990-05-01</td>\n",
       "            <td>123 Broadway, New York, NY 10001</td>\n",
       "            <td>emily.garcia@example.com</td>\n",
       "            <td>555-1234</td>\n",
       "            <td>1</td>\n",
       "            <td>1</td>\n",
       "        </tr>\n",
       "        <tr>\n",
       "            <td>2</td>\n",
       "            <td>Daniel</td>\n",
       "            <td>Nguyen</td>\n",
       "            <td>1988-12-15</td>\n",
       "            <td>456 Lexington Ave, New York, NY 10017</td>\n",
       "            <td>daniel.nguyen@example.com</td>\n",
       "            <td>555-5678</td>\n",
       "            <td>1</td>\n",
       "            <td>2</td>\n",
       "        </tr>\n",
       "        <tr>\n",
       "            <td>3</td>\n",
       "            <td>Brianna</td>\n",
       "            <td>Patel</td>\n",
       "            <td>1985-03-25</td>\n",
       "            <td>789 Madison Ave, New York, NY 10021</td>\n",
       "            <td>brianna.patel@example.com</td>\n",
       "            <td>555-9012</td>\n",
       "            <td>2</td>\n",
       "            <td>3</td>\n",
       "        </tr>\n",
       "        <tr>\n",
       "            <td>4</td>\n",
       "            <td>Aiden</td>\n",
       "            <td>Smith</td>\n",
       "            <td>1993-07-07</td>\n",
       "            <td>321 5th Ave, New York, NY 10016</td>\n",
       "            <td>aiden.smith@example.com</td>\n",
       "            <td>555-3456</td>\n",
       "            <td>2</td>\n",
       "            <td>4</td>\n",
       "        </tr>\n",
       "        <tr>\n",
       "            <td>5</td>\n",
       "            <td>Olivia</td>\n",
       "            <td>Brown</td>\n",
       "            <td>1980-11-18</td>\n",
       "            <td>654 8th Ave, New York, NY 10036</td>\n",
       "            <td>olivia.brown@example.com</td>\n",
       "            <td>555-7890</td>\n",
       "            <td>3</td>\n",
       "            <td>5</td>\n",
       "        </tr>\n",
       "    </tbody>\n",
       "</table>"
      ],
      "text/plain": [
       "[(1, 'Emily', 'Garcia', '1990-05-01', '123 Broadway, New York, NY 10001', 'emily.garcia@example.com', '555-1234', 1, 1),\n",
       " (2, 'Daniel', 'Nguyen', '1988-12-15', '456 Lexington Ave, New York, NY 10017', 'daniel.nguyen@example.com', '555-5678', 1, 2),\n",
       " (3, 'Brianna', 'Patel', '1985-03-25', '789 Madison Ave, New York, NY 10021', 'brianna.patel@example.com', '555-9012', 2, 3),\n",
       " (4, 'Aiden', 'Smith', '1993-07-07', '321 5th Ave, New York, NY 10016', 'aiden.smith@example.com', '555-3456', 2, 4),\n",
       " (5, 'Olivia', 'Brown', '1980-11-18', '654 8th Ave, New York, NY 10036', 'olivia.brown@example.com', '555-7890', 3, 5)]"
      ]
     },
     "execution_count": 43,
     "metadata": {},
     "output_type": "execute_result"
    }
   ],
   "source": [
    "%%sql\n",
    "-- Load all employees\n",
    "\n",
    "SELECT * FROM employees\n",
    "LIMIT 5"
   ]
  },
  {
   "cell_type": "code",
   "execution_count": 44,
   "metadata": {},
   "outputs": [
    {
     "name": "stdout",
     "output_type": "stream",
     "text": [
      "*  sqlite://\n",
      "Done.\n"
     ]
    },
    {
     "data": {
      "text/html": [
       "<table>\n",
       "    <thead>\n",
       "        <tr>\n",
       "            <th>first_name</th>\n",
       "            <th>last_name</th>\n",
       "            <th>job_title</th>\n",
       "            <th>department_name</th>\n",
       "        </tr>\n",
       "    </thead>\n",
       "    <tbody>\n",
       "        <tr>\n",
       "            <td>Emily</td>\n",
       "            <td>Garcia</td>\n",
       "            <td>Sales Representative</td>\n",
       "            <td>Sales</td>\n",
       "        </tr>\n",
       "        <tr>\n",
       "            <td>Daniel</td>\n",
       "            <td>Nguyen</td>\n",
       "            <td>Sales Manager</td>\n",
       "            <td>Sales</td>\n",
       "        </tr>\n",
       "        <tr>\n",
       "            <td>Brianna</td>\n",
       "            <td>Patel</td>\n",
       "            <td>Marketing Coordinator</td>\n",
       "            <td>Marketing</td>\n",
       "        </tr>\n",
       "        <tr>\n",
       "            <td>Aiden</td>\n",
       "            <td>Smith</td>\n",
       "            <td>Marketing Manager</td>\n",
       "            <td>Marketing</td>\n",
       "        </tr>\n",
       "        <tr>\n",
       "            <td>Olivia</td>\n",
       "            <td>Brown</td>\n",
       "            <td>Financial Analyst</td>\n",
       "            <td>Finance</td>\n",
       "        </tr>\n",
       "        <tr>\n",
       "            <td>Ethan</td>\n",
       "            <td>Carter</td>\n",
       "            <td>Human Resources Generalist</td>\n",
       "            <td>Human Resources</td>\n",
       "        </tr>\n",
       "        <tr>\n",
       "            <td>Sophia</td>\n",
       "            <td>Clark</td>\n",
       "            <td>IT Specialist</td>\n",
       "            <td>Information Technology</td>\n",
       "        </tr>\n",
       "        <tr>\n",
       "            <td>Lucas</td>\n",
       "            <td>Lopez</td>\n",
       "            <td>IT Manager</td>\n",
       "            <td>Information Technology</td>\n",
       "        </tr>\n",
       "    </tbody>\n",
       "</table>"
      ],
      "text/plain": [
       "[('Emily', 'Garcia', 'Sales Representative', 'Sales'),\n",
       " ('Daniel', 'Nguyen', 'Sales Manager', 'Sales'),\n",
       " ('Brianna', 'Patel', 'Marketing Coordinator', 'Marketing'),\n",
       " ('Aiden', 'Smith', 'Marketing Manager', 'Marketing'),\n",
       " ('Olivia', 'Brown', 'Financial Analyst', 'Finance'),\n",
       " ('Ethan', 'Carter', 'Human Resources Generalist', 'Human Resources'),\n",
       " ('Sophia', 'Clark', 'IT Specialist', 'Information Technology'),\n",
       " ('Lucas', 'Lopez', 'IT Manager', 'Information Technology')]"
      ]
     },
     "execution_count": 44,
     "metadata": {},
     "output_type": "execute_result"
    }
   ],
   "source": [
    "%%sql\n",
    "-- Show all employees, their job title and corresponding department\n",
    "\n",
    "SELECT employees.first_name, employees.last_name, job_titles.job_title, departments.department_name\n",
    "FROM employees\n",
    "LEFT JOIN job_titles ON employees.job_title_id = job_titles.job_title_id\n",
    "LEFT JOIN departments ON employees.department_id = departments.department_id;"
   ]
  },
  {
   "cell_type": "code",
   "execution_count": 45,
   "metadata": {},
   "outputs": [
    {
     "name": "stdout",
     "output_type": "stream",
     "text": [
      "*  sqlite://\n",
      "Done.\n"
     ]
    },
    {
     "data": {
      "text/html": [
       "<table>\n",
       "    <thead>\n",
       "        <tr>\n",
       "            <th>first_name</th>\n",
       "            <th>last_name</th>\n",
       "            <th>date_of_birth</th>\n",
       "            <th>department_name</th>\n",
       "        </tr>\n",
       "    </thead>\n",
       "    <tbody>\n",
       "        <tr>\n",
       "            <td>Daniel</td>\n",
       "            <td>Nguyen</td>\n",
       "            <td>1988-12-15</td>\n",
       "            <td>Sales</td>\n",
       "        </tr>\n",
       "        <tr>\n",
       "            <td>Brianna</td>\n",
       "            <td>Patel</td>\n",
       "            <td>1985-03-25</td>\n",
       "            <td>Marketing</td>\n",
       "        </tr>\n",
       "        <tr>\n",
       "            <td>Olivia</td>\n",
       "            <td>Brown</td>\n",
       "            <td>1980-11-18</td>\n",
       "            <td>Finance</td>\n",
       "        </tr>\n",
       "        <tr>\n",
       "            <td>Sophia</td>\n",
       "            <td>Clark</td>\n",
       "            <td>1982-09-22</td>\n",
       "            <td>Information Technology</td>\n",
       "        </tr>\n",
       "        <tr>\n",
       "            <td>Lucas</td>\n",
       "            <td>Lopez</td>\n",
       "            <td>1987-04-12</td>\n",
       "            <td>Information Technology</td>\n",
       "        </tr>\n",
       "    </tbody>\n",
       "</table>"
      ],
      "text/plain": [
       "[('Daniel', 'Nguyen', '1988-12-15', 'Sales'),\n",
       " ('Brianna', 'Patel', '1985-03-25', 'Marketing'),\n",
       " ('Olivia', 'Brown', '1980-11-18', 'Finance'),\n",
       " ('Sophia', 'Clark', '1982-09-22', 'Information Technology'),\n",
       " ('Lucas', 'Lopez', '1987-04-12', 'Information Technology')]"
      ]
     },
     "execution_count": 45,
     "metadata": {},
     "output_type": "execute_result"
    }
   ],
   "source": [
    "%%sql\n",
    "-- List all employees who were born before 1990\n",
    "\n",
    "SELECT employees.first_name, employees.last_name, employees.date_of_birth, departments.department_name\n",
    "FROM employees\n",
    "LEFT JOIN departments ON employees.department_id = departments.department_id\n",
    "WHERE employees.date_of_birth < '1990-01-01';"
   ]
  },
  {
   "cell_type": "code",
   "execution_count": 46,
   "metadata": {},
   "outputs": [
    {
     "name": "stdout",
     "output_type": "stream",
     "text": [
      "*  sqlite://\n",
      "Done.\n"
     ]
    },
    {
     "data": {
      "text/html": [
       "<table>\n",
       "    <thead>\n",
       "        <tr>\n",
       "            <th>first_name</th>\n",
       "            <th>last_name</th>\n",
       "            <th>date_of_birth</th>\n",
       "            <th>department_name</th>\n",
       "        </tr>\n",
       "    </thead>\n",
       "    <tbody>\n",
       "        <tr>\n",
       "            <td>Aiden</td>\n",
       "            <td>Smith</td>\n",
       "            <td>1993-07-07</td>\n",
       "            <td>Marketing</td>\n",
       "        </tr>\n",
       "    </tbody>\n",
       "</table>"
      ],
      "text/plain": [
       "[('Aiden', 'Smith', '1993-07-07', 'Marketing')]"
      ]
     },
     "execution_count": 46,
     "metadata": {},
     "output_type": "execute_result"
    }
   ],
   "source": [
    "%%sql\n",
    "-- List all employees who were born after 1990 and currently work in Marketing\n",
    "\n",
    "SELECT employees.first_name, employees.last_name, employees.date_of_birth, departments.department_name\n",
    "FROM employees\n",
    "LEFT JOIN departments ON employees.department_id = departments.department_id\n",
    "WHERE employees.date_of_birth > '1990-01-01' AND departments.department_name = 'Marketing';"
   ]
  },
  {
   "cell_type": "code",
   "execution_count": 47,
   "metadata": {},
   "outputs": [
    {
     "name": "stdout",
     "output_type": "stream",
     "text": [
      "*  sqlite://\n",
      "Done.\n"
     ]
    },
    {
     "data": {
      "text/html": [
       "<table>\n",
       "    <thead>\n",
       "        <tr>\n",
       "            <th>department_name</th>\n",
       "            <th>employee_count</th>\n",
       "        </tr>\n",
       "    </thead>\n",
       "    <tbody>\n",
       "        <tr>\n",
       "            <td>Sales</td>\n",
       "            <td>2</td>\n",
       "        </tr>\n",
       "        <tr>\n",
       "            <td>Marketing</td>\n",
       "            <td>2</td>\n",
       "        </tr>\n",
       "        <tr>\n",
       "            <td>Finance</td>\n",
       "            <td>1</td>\n",
       "        </tr>\n",
       "        <tr>\n",
       "            <td>Human Resources</td>\n",
       "            <td>1</td>\n",
       "        </tr>\n",
       "        <tr>\n",
       "            <td>Information Technology</td>\n",
       "            <td>2</td>\n",
       "        </tr>\n",
       "    </tbody>\n",
       "</table>"
      ],
      "text/plain": [
       "[('Sales', 2),\n",
       " ('Marketing', 2),\n",
       " ('Finance', 1),\n",
       " ('Human Resources', 1),\n",
       " ('Information Technology', 2)]"
      ]
     },
     "execution_count": 47,
     "metadata": {},
     "output_type": "execute_result"
    }
   ],
   "source": [
    "%%sql\n",
    "-- List the number of employees by department\n",
    "\n",
    "SELECT departments.department_name, COUNT(employees.department_id) AS employee_count \n",
    "FROM departments \n",
    "LEFT JOIN employees ON departments.department_id = employees.department_id \n",
    "GROUP BY departments.department_id;"
   ]
  },
  {
   "cell_type": "code",
   "execution_count": 48,
   "metadata": {},
   "outputs": [
    {
     "name": "stdout",
     "output_type": "stream",
     "text": [
      "*  sqlite://\n",
      "Done.\n"
     ]
    },
    {
     "data": {
      "text/html": [
       "<table>\n",
       "    <thead>\n",
       "        <tr>\n",
       "            <th>job_title</th>\n",
       "            <th>average_salary</th>\n",
       "        </tr>\n",
       "    </thead>\n",
       "    <tbody>\n",
       "        <tr>\n",
       "            <td>Sales Representative</td>\n",
       "            <td>80000.0</td>\n",
       "        </tr>\n",
       "        <tr>\n",
       "            <td>Sales Manager</td>\n",
       "            <td>90000.0</td>\n",
       "        </tr>\n",
       "        <tr>\n",
       "            <td>Marketing Coordinator</td>\n",
       "            <td>100000.0</td>\n",
       "        </tr>\n",
       "        <tr>\n",
       "            <td>Marketing Manager</td>\n",
       "            <td>110000.0</td>\n",
       "        </tr>\n",
       "        <tr>\n",
       "            <td>Financial Analyst</td>\n",
       "            <td>120000.0</td>\n",
       "        </tr>\n",
       "        <tr>\n",
       "            <td>Human Resources Generalist</td>\n",
       "            <td>100000.0</td>\n",
       "        </tr>\n",
       "        <tr>\n",
       "            <td>IT Specialist</td>\n",
       "            <td>110000.0</td>\n",
       "        </tr>\n",
       "        <tr>\n",
       "            <td>IT Manager</td>\n",
       "            <td>120000.0</td>\n",
       "        </tr>\n",
       "    </tbody>\n",
       "</table>"
      ],
      "text/plain": [
       "[('Sales Representative', 80000.0),\n",
       " ('Sales Manager', 90000.0),\n",
       " ('Marketing Coordinator', 100000.0),\n",
       " ('Marketing Manager', 110000.0),\n",
       " ('Financial Analyst', 120000.0),\n",
       " ('Human Resources Generalist', 100000.0),\n",
       " ('IT Specialist', 110000.0),\n",
       " ('IT Manager', 120000.0)]"
      ]
     },
     "execution_count": 48,
     "metadata": {},
     "output_type": "execute_result"
    }
   ],
   "source": [
    "%%sql\n",
    "-- List the average salary by job title\n",
    "\n",
    "SELECT job_titles.job_title, AVG(salaries.salary) AS average_salary \n",
    "FROM employees \n",
    "JOIN salaries ON employees.employee_id = salaries.employee_id \n",
    "JOIN job_titles ON employees.job_title_id = job_titles.job_title_id \n",
    "GROUP BY job_titles.job_title_id;\n"
   ]
  },
  {
   "cell_type": "code",
   "execution_count": 49,
   "metadata": {},
   "outputs": [
    {
     "name": "stdout",
     "output_type": "stream",
     "text": [
      "*  sqlite://\n",
      "Done.\n"
     ]
    },
    {
     "data": {
      "text/html": [
       "<table>\n",
       "    <thead>\n",
       "        <tr>\n",
       "            <th>full_name</th>\n",
       "            <th>email_address</th>\n",
       "        </tr>\n",
       "    </thead>\n",
       "    <tbody>\n",
       "        <tr>\n",
       "            <td>Aiden Smith</td>\n",
       "            <td>aiden.smith@example.com</td>\n",
       "        </tr>\n",
       "        <tr>\n",
       "            <td>Olivia Brown</td>\n",
       "            <td>olivia.brown@example.com</td>\n",
       "        </tr>\n",
       "        <tr>\n",
       "            <td>Sophia Clark</td>\n",
       "            <td>sophia.clark@example.com</td>\n",
       "        </tr>\n",
       "        <tr>\n",
       "            <td>Lucas Lopez</td>\n",
       "            <td>lucas.lopez@example.com</td>\n",
       "        </tr>\n",
       "    </tbody>\n",
       "</table>"
      ],
      "text/plain": [
       "[('Aiden Smith', 'aiden.smith@example.com'),\n",
       " ('Olivia Brown', 'olivia.brown@example.com'),\n",
       " ('Sophia Clark', 'sophia.clark@example.com'),\n",
       " ('Lucas Lopez', 'lucas.lopez@example.com')]"
      ]
     },
     "execution_count": 49,
     "metadata": {},
     "output_type": "execute_result"
    }
   ],
   "source": [
    "%%sql\n",
    "-- List employees who make more than $100,000/yr by displaying their full name and email\n",
    "--- Note: I prefer using 'CONCAT' but the ipython-sql library has limited access to the full SQL operators\n",
    "\n",
    "SELECT first_name || ' ' || last_name AS full_name, email_address \n",
    "FROM employees \n",
    "JOIN salaries ON employees.employee_id = salaries.employee_id \n",
    "WHERE salaries.salary > 100000;"
   ]
  }
 ],
 "metadata": {
  "kernelspec": {
   "display_name": "Data-Analysis-PY",
   "language": "python",
   "name": "python3"
  },
  "language_info": {
   "codemirror_mode": {
    "name": "ipython",
    "version": 3
   },
   "file_extension": ".py",
   "mimetype": "text/x-python",
   "name": "python",
   "nbconvert_exporter": "python",
   "pygments_lexer": "ipython3",
   "version": "3.11.0"
  },
  "orig_nbformat": 4
 },
 "nbformat": 4,
 "nbformat_minor": 2
}
