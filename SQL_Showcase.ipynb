{
 "cells": [
  {
   "attachments": {},
   "cell_type": "markdown",
   "metadata": {},
   "source": [
    "## Loading the inline SQL display"
   ]
  },
  {
   "cell_type": "code",
   "execution_count": 1,
   "metadata": {},
   "outputs": [],
   "source": [
    "%load_ext sql\n",
    "%sql sqlite://"
   ]
  },
  {
   "attachments": {},
   "cell_type": "markdown",
   "metadata": {},
   "source": [
    "## Creating three tables below\n",
    "- employee\n",
    "- departments\n",
    "- job titles"
   ]
  },
  {
   "cell_type": "code",
   "execution_count": 2,
   "metadata": {},
   "outputs": [
    {
     "name": "stdout",
     "output_type": "stream",
     "text": [
      "*  sqlite://\n",
      "Done.\n"
     ]
    },
    {
     "data": {
      "text/plain": [
       "[]"
      ]
     },
     "execution_count": 2,
     "metadata": {},
     "output_type": "execute_result"
    }
   ],
   "source": [
    "%%sql\n",
    "CREATE TABLE employees (\n",
    "  employee_id INT PRIMARY KEY,\n",
    "  first_name VARCHAR(50),\n",
    "  last_name VARCHAR(50),\n",
    "  date_of_birth DATE,\n",
    "  address VARCHAR(100),\n",
    "  email_address VARCHAR(100),\n",
    "  phone_number VARCHAR(20),\n",
    "  department_id INT,\n",
    "  job_title_id INT,\n",
    "  FOREIGN KEY (department_id) REFERENCES departments(department_id),\n",
    "  FOREIGN KEY (job_title_id) REFERENCES job_titles(job_title_id));"
   ]
  },
  {
   "cell_type": "code",
   "execution_count": 3,
   "metadata": {},
   "outputs": [
    {
     "name": "stdout",
     "output_type": "stream",
     "text": [
      "*  sqlite://\n",
      "Done.\n"
     ]
    },
    {
     "data": {
      "text/plain": [
       "[]"
      ]
     },
     "execution_count": 3,
     "metadata": {},
     "output_type": "execute_result"
    }
   ],
   "source": [
    "%%sql\n",
    "CREATE TABLE departments (\n",
    "  department_id INT PRIMARY KEY,\n",
    "  department_name VARCHAR(50));"
   ]
  },
  {
   "cell_type": "code",
   "execution_count": 4,
   "metadata": {},
   "outputs": [
    {
     "name": "stdout",
     "output_type": "stream",
     "text": [
      "*  sqlite://\n",
      "Done.\n"
     ]
    },
    {
     "data": {
      "text/plain": [
       "[]"
      ]
     },
     "execution_count": 4,
     "metadata": {},
     "output_type": "execute_result"
    }
   ],
   "source": [
    "%%sql\n",
    "CREATE TABLE job_titles (\n",
    "  job_title_id INT PRIMARY KEY,\n",
    "  job_title VARCHAR(50));"
   ]
  },
  {
   "attachments": {},
   "cell_type": "markdown",
   "metadata": {},
   "source": [
    "## Adding some sample data"
   ]
  },
  {
   "cell_type": "code",
   "execution_count": 5,
   "metadata": {},
   "outputs": [
    {
     "name": "stdout",
     "output_type": "stream",
     "text": [
      "*  sqlite://\n",
      "8 rows affected.\n"
     ]
    },
    {
     "data": {
      "text/plain": [
       "[]"
      ]
     },
     "execution_count": 5,
     "metadata": {},
     "output_type": "execute_result"
    }
   ],
   "source": [
    "%%sql\n",
    "INSERT INTO employees (employee_id, first_name, last_name, date_of_birth, address, email_address, phone_number, department_id, job_title_id)\n",
    "VALUES\n",
    "  (1, 'Emily', 'Garcia', '1990-05-01', '123 Broadway, New York, NY 10001', 'emily.garcia@example.com', '555-1234', 1, 1),\n",
    "  (2, 'Daniel', 'Nguyen', '1988-12-15', '456 Lexington Ave, New York, NY 10017', 'daniel.nguyen@example.com', '555-5678', 1, 2),\n",
    "  (3, 'Brianna', 'Patel', '1985-03-25', '789 Madison Ave, New York, NY 10021', 'brianna.patel@example.com', '555-9012', 2, 3),\n",
    "  (4, 'Aiden', 'Smith', '1993-07-07', '321 5th Ave, New York, NY 10016', 'aiden.smith@example.com', '555-3456', 2, 4),\n",
    "  (5, 'Olivia', 'Brown', '1980-11-18', '654 8th Ave, New York, NY 10036', 'olivia.brown@example.com', '555-7890', 3, 5),\n",
    "  (6, 'Ethan', 'Carter', '1995-06-30', '987 Park Ave, New York, NY 10028', 'ethan.carter@example.com', '555-2345', 4, 6),\n",
    "  (7, 'Sophia', 'Clark', '1982-09-22', '654 2nd Ave, New York, NY 10016', 'sophia.clark@example.com', '555-6789', 5, 7),\n",
    "  (8, 'Lucas', 'Lopez', '1987-04-12', '321 1st Ave, New York, NY 10003', 'lucas.lopez@example.com', '555-0123', 5, 8);\n"
   ]
  },
  {
   "cell_type": "code",
   "execution_count": 6,
   "metadata": {},
   "outputs": [
    {
     "name": "stdout",
     "output_type": "stream",
     "text": [
      "*  sqlite://\n",
      "5 rows affected.\n"
     ]
    },
    {
     "data": {
      "text/plain": [
       "[]"
      ]
     },
     "execution_count": 6,
     "metadata": {},
     "output_type": "execute_result"
    }
   ],
   "source": [
    "%%sql\n",
    "INSERT INTO departments (department_id, department_name)\n",
    "VALUES\n",
    "  (1, 'Sales'),\n",
    "  (2, 'Marketing'),\n",
    "  (3, 'Finance'),\n",
    "  (4, 'Human Resources'),\n",
    "  (5, 'Information Technology');"
   ]
  },
  {
   "cell_type": "code",
   "execution_count": 7,
   "metadata": {},
   "outputs": [
    {
     "name": "stdout",
     "output_type": "stream",
     "text": [
      "*  sqlite://\n",
      "8 rows affected.\n"
     ]
    },
    {
     "data": {
      "text/plain": [
       "[]"
      ]
     },
     "execution_count": 7,
     "metadata": {},
     "output_type": "execute_result"
    }
   ],
   "source": [
    "%%sql\n",
    "INSERT INTO job_titles (job_title_id, job_title)\n",
    "VALUES\n",
    "  (1, 'Sales Representative'),\n",
    "  (2, 'Sales Manager'),\n",
    "  (3, 'Marketing Coordinator'),\n",
    "  (4, 'Marketing Manager'),\n",
    "  (5, 'Financial Analyst'),\n",
    "  (6, 'Human Resources Generalist'),\n",
    "  (7, 'IT Specialist'),\n",
    "  (8, 'IT Manager');"
   ]
  },
  {
   "attachments": {},
   "cell_type": "markdown",
   "metadata": {},
   "source": [
    "## Querying data"
   ]
  },
  {
   "cell_type": "code",
   "execution_count": 8,
   "metadata": {},
   "outputs": [
    {
     "name": "stdout",
     "output_type": "stream",
     "text": [
      "*  sqlite://\n",
      "Done.\n"
     ]
    },
    {
     "data": {
      "text/html": [
       "<table>\n",
       "    <thead>\n",
       "        <tr>\n",
       "            <th>employee_id</th>\n",
       "            <th>first_name</th>\n",
       "            <th>last_name</th>\n",
       "            <th>date_of_birth</th>\n",
       "            <th>address</th>\n",
       "            <th>email_address</th>\n",
       "            <th>phone_number</th>\n",
       "            <th>department_id</th>\n",
       "            <th>job_title_id</th>\n",
       "        </tr>\n",
       "    </thead>\n",
       "    <tbody>\n",
       "        <tr>\n",
       "            <td>1</td>\n",
       "            <td>Emily</td>\n",
       "            <td>Garcia</td>\n",
       "            <td>1990-05-01</td>\n",
       "            <td>123 Broadway, New York, NY 10001</td>\n",
       "            <td>emily.garcia@example.com</td>\n",
       "            <td>555-1234</td>\n",
       "            <td>1</td>\n",
       "            <td>1</td>\n",
       "        </tr>\n",
       "        <tr>\n",
       "            <td>2</td>\n",
       "            <td>Daniel</td>\n",
       "            <td>Nguyen</td>\n",
       "            <td>1988-12-15</td>\n",
       "            <td>456 Lexington Ave, New York, NY 10017</td>\n",
       "            <td>daniel.nguyen@example.com</td>\n",
       "            <td>555-5678</td>\n",
       "            <td>1</td>\n",
       "            <td>2</td>\n",
       "        </tr>\n",
       "        <tr>\n",
       "            <td>3</td>\n",
       "            <td>Brianna</td>\n",
       "            <td>Patel</td>\n",
       "            <td>1985-03-25</td>\n",
       "            <td>789 Madison Ave, New York, NY 10021</td>\n",
       "            <td>brianna.patel@example.com</td>\n",
       "            <td>555-9012</td>\n",
       "            <td>2</td>\n",
       "            <td>3</td>\n",
       "        </tr>\n",
       "        <tr>\n",
       "            <td>4</td>\n",
       "            <td>Aiden</td>\n",
       "            <td>Smith</td>\n",
       "            <td>1993-07-07</td>\n",
       "            <td>321 5th Ave, New York, NY 10016</td>\n",
       "            <td>aiden.smith@example.com</td>\n",
       "            <td>555-3456</td>\n",
       "            <td>2</td>\n",
       "            <td>4</td>\n",
       "        </tr>\n",
       "        <tr>\n",
       "            <td>5</td>\n",
       "            <td>Olivia</td>\n",
       "            <td>Brown</td>\n",
       "            <td>1980-11-18</td>\n",
       "            <td>654 8th Ave, New York, NY 10036</td>\n",
       "            <td>olivia.brown@example.com</td>\n",
       "            <td>555-7890</td>\n",
       "            <td>3</td>\n",
       "            <td>5</td>\n",
       "        </tr>\n",
       "        <tr>\n",
       "            <td>6</td>\n",
       "            <td>Ethan</td>\n",
       "            <td>Carter</td>\n",
       "            <td>1995-06-30</td>\n",
       "            <td>987 Park Ave, New York, NY 10028</td>\n",
       "            <td>ethan.carter@example.com</td>\n",
       "            <td>555-2345</td>\n",
       "            <td>4</td>\n",
       "            <td>6</td>\n",
       "        </tr>\n",
       "        <tr>\n",
       "            <td>7</td>\n",
       "            <td>Sophia</td>\n",
       "            <td>Clark</td>\n",
       "            <td>1982-09-22</td>\n",
       "            <td>654 2nd Ave, New York, NY 10016</td>\n",
       "            <td>sophia.clark@example.com</td>\n",
       "            <td>555-6789</td>\n",
       "            <td>5</td>\n",
       "            <td>7</td>\n",
       "        </tr>\n",
       "        <tr>\n",
       "            <td>8</td>\n",
       "            <td>Lucas</td>\n",
       "            <td>Lopez</td>\n",
       "            <td>1987-04-12</td>\n",
       "            <td>321 1st Ave, New York, NY 10003</td>\n",
       "            <td>lucas.lopez@example.com</td>\n",
       "            <td>555-0123</td>\n",
       "            <td>5</td>\n",
       "            <td>8</td>\n",
       "        </tr>\n",
       "    </tbody>\n",
       "</table>"
      ],
      "text/plain": [
       "[(1, 'Emily', 'Garcia', '1990-05-01', '123 Broadway, New York, NY 10001', 'emily.garcia@example.com', '555-1234', 1, 1),\n",
       " (2, 'Daniel', 'Nguyen', '1988-12-15', '456 Lexington Ave, New York, NY 10017', 'daniel.nguyen@example.com', '555-5678', 1, 2),\n",
       " (3, 'Brianna', 'Patel', '1985-03-25', '789 Madison Ave, New York, NY 10021', 'brianna.patel@example.com', '555-9012', 2, 3),\n",
       " (4, 'Aiden', 'Smith', '1993-07-07', '321 5th Ave, New York, NY 10016', 'aiden.smith@example.com', '555-3456', 2, 4),\n",
       " (5, 'Olivia', 'Brown', '1980-11-18', '654 8th Ave, New York, NY 10036', 'olivia.brown@example.com', '555-7890', 3, 5),\n",
       " (6, 'Ethan', 'Carter', '1995-06-30', '987 Park Ave, New York, NY 10028', 'ethan.carter@example.com', '555-2345', 4, 6),\n",
       " (7, 'Sophia', 'Clark', '1982-09-22', '654 2nd Ave, New York, NY 10016', 'sophia.clark@example.com', '555-6789', 5, 7),\n",
       " (8, 'Lucas', 'Lopez', '1987-04-12', '321 1st Ave, New York, NY 10003', 'lucas.lopez@example.com', '555-0123', 5, 8)]"
      ]
     },
     "execution_count": 8,
     "metadata": {},
     "output_type": "execute_result"
    }
   ],
   "source": [
    "%%sql\n",
    "-- Load all employees\n",
    "\n",
    "SELECT * FROM employees"
   ]
  },
  {
   "cell_type": "code",
   "execution_count": 9,
   "metadata": {},
   "outputs": [
    {
     "name": "stdout",
     "output_type": "stream",
     "text": [
      "*  sqlite://\n",
      "Done.\n"
     ]
    },
    {
     "data": {
      "text/html": [
       "<table>\n",
       "    <thead>\n",
       "        <tr>\n",
       "            <th>first_name</th>\n",
       "            <th>last_name</th>\n",
       "            <th>job_title</th>\n",
       "            <th>department_name</th>\n",
       "        </tr>\n",
       "    </thead>\n",
       "    <tbody>\n",
       "        <tr>\n",
       "            <td>Emily</td>\n",
       "            <td>Garcia</td>\n",
       "            <td>Sales Representative</td>\n",
       "            <td>Sales</td>\n",
       "        </tr>\n",
       "        <tr>\n",
       "            <td>Daniel</td>\n",
       "            <td>Nguyen</td>\n",
       "            <td>Sales Manager</td>\n",
       "            <td>Sales</td>\n",
       "        </tr>\n",
       "        <tr>\n",
       "            <td>Brianna</td>\n",
       "            <td>Patel</td>\n",
       "            <td>Marketing Coordinator</td>\n",
       "            <td>Marketing</td>\n",
       "        </tr>\n",
       "        <tr>\n",
       "            <td>Aiden</td>\n",
       "            <td>Smith</td>\n",
       "            <td>Marketing Manager</td>\n",
       "            <td>Marketing</td>\n",
       "        </tr>\n",
       "        <tr>\n",
       "            <td>Olivia</td>\n",
       "            <td>Brown</td>\n",
       "            <td>Financial Analyst</td>\n",
       "            <td>Finance</td>\n",
       "        </tr>\n",
       "        <tr>\n",
       "            <td>Ethan</td>\n",
       "            <td>Carter</td>\n",
       "            <td>Human Resources Generalist</td>\n",
       "            <td>Human Resources</td>\n",
       "        </tr>\n",
       "        <tr>\n",
       "            <td>Sophia</td>\n",
       "            <td>Clark</td>\n",
       "            <td>IT Specialist</td>\n",
       "            <td>Information Technology</td>\n",
       "        </tr>\n",
       "        <tr>\n",
       "            <td>Lucas</td>\n",
       "            <td>Lopez</td>\n",
       "            <td>IT Manager</td>\n",
       "            <td>Information Technology</td>\n",
       "        </tr>\n",
       "    </tbody>\n",
       "</table>"
      ],
      "text/plain": [
       "[('Emily', 'Garcia', 'Sales Representative', 'Sales'),\n",
       " ('Daniel', 'Nguyen', 'Sales Manager', 'Sales'),\n",
       " ('Brianna', 'Patel', 'Marketing Coordinator', 'Marketing'),\n",
       " ('Aiden', 'Smith', 'Marketing Manager', 'Marketing'),\n",
       " ('Olivia', 'Brown', 'Financial Analyst', 'Finance'),\n",
       " ('Ethan', 'Carter', 'Human Resources Generalist', 'Human Resources'),\n",
       " ('Sophia', 'Clark', 'IT Specialist', 'Information Technology'),\n",
       " ('Lucas', 'Lopez', 'IT Manager', 'Information Technology')]"
      ]
     },
     "execution_count": 9,
     "metadata": {},
     "output_type": "execute_result"
    }
   ],
   "source": [
    "%%sql\n",
    "-- Show all employees, their job title and corresponding department\n",
    "\n",
    "SELECT employees.first_name, employees.last_name, job_titles.job_title, departments.department_name\n",
    "FROM employees\n",
    "LEFT JOIN job_titles ON employees.job_title_id = job_titles.job_title_id\n",
    "LEFT JOIN departments ON employees.department_id = departments.department_id;"
   ]
  },
  {
   "cell_type": "code",
   "execution_count": 10,
   "metadata": {},
   "outputs": [
    {
     "name": "stdout",
     "output_type": "stream",
     "text": [
      "*  sqlite://\n",
      "Done.\n"
     ]
    },
    {
     "data": {
      "text/html": [
       "<table>\n",
       "    <thead>\n",
       "        <tr>\n",
       "            <th>first_name</th>\n",
       "            <th>last_name</th>\n",
       "            <th>date_of_birth</th>\n",
       "            <th>department_name</th>\n",
       "        </tr>\n",
       "    </thead>\n",
       "    <tbody>\n",
       "        <tr>\n",
       "            <td>Daniel</td>\n",
       "            <td>Nguyen</td>\n",
       "            <td>1988-12-15</td>\n",
       "            <td>Sales</td>\n",
       "        </tr>\n",
       "        <tr>\n",
       "            <td>Brianna</td>\n",
       "            <td>Patel</td>\n",
       "            <td>1985-03-25</td>\n",
       "            <td>Marketing</td>\n",
       "        </tr>\n",
       "        <tr>\n",
       "            <td>Olivia</td>\n",
       "            <td>Brown</td>\n",
       "            <td>1980-11-18</td>\n",
       "            <td>Finance</td>\n",
       "        </tr>\n",
       "        <tr>\n",
       "            <td>Sophia</td>\n",
       "            <td>Clark</td>\n",
       "            <td>1982-09-22</td>\n",
       "            <td>Information Technology</td>\n",
       "        </tr>\n",
       "        <tr>\n",
       "            <td>Lucas</td>\n",
       "            <td>Lopez</td>\n",
       "            <td>1987-04-12</td>\n",
       "            <td>Information Technology</td>\n",
       "        </tr>\n",
       "    </tbody>\n",
       "</table>"
      ],
      "text/plain": [
       "[('Daniel', 'Nguyen', '1988-12-15', 'Sales'),\n",
       " ('Brianna', 'Patel', '1985-03-25', 'Marketing'),\n",
       " ('Olivia', 'Brown', '1980-11-18', 'Finance'),\n",
       " ('Sophia', 'Clark', '1982-09-22', 'Information Technology'),\n",
       " ('Lucas', 'Lopez', '1987-04-12', 'Information Technology')]"
      ]
     },
     "execution_count": 10,
     "metadata": {},
     "output_type": "execute_result"
    }
   ],
   "source": [
    "%%sql\n",
    "-- List all employees who were born before 1990\n",
    "\n",
    "SELECT employees.first_name, employees.last_name, employees.date_of_birth, departments.department_name\n",
    "FROM employees\n",
    "LEFT JOIN departments ON employees.department_id = departments.department_id\n",
    "WHERE employees.date_of_birth < '1990-01-01';"
   ]
  },
  {
   "cell_type": "code",
   "execution_count": 11,
   "metadata": {},
   "outputs": [
    {
     "name": "stdout",
     "output_type": "stream",
     "text": [
      "*  sqlite://\n",
      "Done.\n"
     ]
    },
    {
     "data": {
      "text/html": [
       "<table>\n",
       "    <thead>\n",
       "        <tr>\n",
       "            <th>first_name</th>\n",
       "            <th>last_name</th>\n",
       "            <th>date_of_birth</th>\n",
       "            <th>department_name</th>\n",
       "        </tr>\n",
       "    </thead>\n",
       "    <tbody>\n",
       "        <tr>\n",
       "            <td>Aiden</td>\n",
       "            <td>Smith</td>\n",
       "            <td>1993-07-07</td>\n",
       "            <td>Marketing</td>\n",
       "        </tr>\n",
       "    </tbody>\n",
       "</table>"
      ],
      "text/plain": [
       "[('Aiden', 'Smith', '1993-07-07', 'Marketing')]"
      ]
     },
     "execution_count": 11,
     "metadata": {},
     "output_type": "execute_result"
    }
   ],
   "source": [
    "%%sql\n",
    "-- List all employees who were born after 1990 and currently work in Marketing\n",
    "\n",
    "SELECT employees.first_name, employees.last_name, employees.date_of_birth, departments.department_name\n",
    "FROM employees\n",
    "LEFT JOIN departments ON employees.department_id = departments.department_id\n",
    "WHERE employees.date_of_birth > '1990-01-01' AND departments.department_name = 'Marketing';"
   ]
  }
 ],
 "metadata": {
  "kernelspec": {
   "display_name": "Data-Analysis-PY",
   "language": "python",
   "name": "python3"
  },
  "language_info": {
   "codemirror_mode": {
    "name": "ipython",
    "version": 3
   },
   "file_extension": ".py",
   "mimetype": "text/x-python",
   "name": "python",
   "nbconvert_exporter": "python",
   "pygments_lexer": "ipython3",
   "version": "3.11.0"
  },
  "orig_nbformat": 4
 },
 "nbformat": 4,
 "nbformat_minor": 2
}
